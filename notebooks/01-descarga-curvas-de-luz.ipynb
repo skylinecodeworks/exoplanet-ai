{
 "cells": [
  {
   "cell_type": "code",
   "execution_count": 1,
   "id": "e98e2e2d-5d79-40a4-89be-b18918840291",
   "metadata": {},
   "outputs": [
    {
     "name": "stderr",
     "output_type": "stream",
     "text": [
      "/tmp/ipykernel_28223/1673375373.py:6: LightkurveDeprecationWarning: The search_lightcurvefile function is deprecated and may be removed in a future version.\n",
      "        Use search_lightcurve() instead.\n",
      "  lc_file = search_lightcurvefile(target, mission='TESS').download()\n",
      "/home/tomas/git/skylinecw/exoplanet-ai/.venv/lib/python3.12/site-packages/lightkurve/search.py:424: LightkurveWarning: Warning: 109 files available to download. Only the first file has been downloaded. Please use `download_all()` or specify additional criteria (e.g. quarter, campaign, or sector) to limit your search.\n",
      "  warnings.warn(\n",
      "/tmp/ipykernel_28223/1673375373.py:7: LightkurveDeprecationWarning: The PDCSAP_FLUX function is deprecated and may be removed in a future version.\n",
      "  lc = lc_file.PDCSAP_FLUX.normalize().remove_nans()\n"
     ]
    },
    {
     "name": "stdout",
     "output_type": "stream",
     "text": [
      "Curva de luz guardada como CSV con columnas 'time' y 'flux'.\n"
     ]
    }
   ],
   "source": [
    "from lightkurve import search_lightcurvefile\n",
    "import pandas as pd\n",
    "import os\n",
    "\n",
    "target = \"TIC 307210830\"\n",
    "lc_file = search_lightcurvefile(target, mission='TESS').download()\n",
    "lc = lc_file.PDCSAP_FLUX.normalize().remove_nans()\n",
    "\n",
    "# Construimos DataFrame manualmente con tiempo y flujo\n",
    "df = pd.DataFrame({\n",
    "    \"time\": lc.time.value,   # tiempo en días (convertido desde Time object)\n",
    "    \"flux\": lc.flux.value\n",
    "})\n",
    "\n",
    "def get_confirmed_tics_from_tess():\n",
    "    url = \"https://exoplanetarchive.ipac.caltech.edu/TAP/sync?query=select+distinct+tic_id+from+pscomppars+where+discoverymethod='Transit'+and+disc_facility+like+'%25TESS%25'&format=csv\"\n",
    "    df = pd.read_csv(url)\n",
    "    if \"tic_id\" in df.columns:\n",
    "        return df[\"tic_id\"].dropna().astype(int).unique().tolist()\n",
    "    else:\n",
    "        print(\"❌ La respuesta no contiene resultados.\")\n",
    "        return []\n",
    "\n",
    "\n",
    "# Lista de no confirmados (sin tránsito o FP)\n",
    "def get_false_positive_tics():\n",
    "    url = \"https://exoplanetarchive.ipac.caltech.edu/TAP/sync?query=select+distinct+tid+from+toi+where+tfopwg_disp='FP'&format=csv\"\n",
    "    df = pd.read_csv(url)\n",
    "    if \"tid\" in df.columns:\n",
    "        return df[\"tid\"].dropna().astype(int).unique().tolist()\n",
    "    else:\n",
    "        print(\"❌ La respuesta no contiene resultados.\")\n",
    "        return []\n",
    "\n",
    "\n",
    "# Guardamos\n",
    "os.makedirs(\"../data\", exist_ok=True)\n",
    "df.to_csv(f\"../data/{target.replace(' ', '_')}.csv\", index=False)\n",
    "print(\"Curva de luz guardada como CSV con columnas 'time' y 'flux'.\")\n"
   ]
  },
  {
   "cell_type": "code",
   "execution_count": null,
   "id": "51936ec1-a322-4aeb-8605-20776da856ab",
   "metadata": {},
   "outputs": [],
   "source": []
  }
 ],
 "metadata": {
  "kernelspec": {
   "display_name": "Python 3 (ipykernel)",
   "language": "python",
   "name": "python3"
  },
  "language_info": {
   "codemirror_mode": {
    "name": "ipython",
    "version": 3
   },
   "file_extension": ".py",
   "mimetype": "text/x-python",
   "name": "python",
   "nbconvert_exporter": "python",
   "pygments_lexer": "ipython3",
   "version": "3.12.3"
  }
 },
 "nbformat": 4,
 "nbformat_minor": 5
}
