{
 "cells": [
  {
   "cell_type": "code",
   "execution_count": null,
   "id": "b51a6a74-adaf-4fa7-8a0c-427570c6f4cc",
   "metadata": {},
   "outputs": [],
   "source": [
    "import torch\n",
    "import torch.nn as nn\n",
    "import torch.optim as optim\n",
    "import numpy as np\n",
    "\n",
    "# Simulación de un dataset con una curva de luz\n",
    "# En un caso real, usarás varias curvas para entrenar correctamente\n",
    "X = np.array([flattened.flux.value], dtype=np.float32)\n",
    "X = X[:, np.newaxis, :]  # (batch_size, channels, sequence_length)\n",
    "y = np.array([1], dtype=np.float32)  # 1 = tránsito\n",
    "\n",
    "X_tensor = torch.tensor(X)\n",
    "y_tensor = torch.tensor(y).unsqueeze(1)  # (batch_size, 1)\n",
    "\n",
    "# Definimos un modelo CNN muy simple\n",
    "class TransitCNN(nn.Module):\n",
    "    def __init__(self):\n",
    "        super(TransitCNN, self).__init__()\n",
    "        self.conv1 = nn.Conv1d(1, 8, kernel_size=5)\n",
    "        self.pool = nn.MaxPool1d(2)\n",
    "        self.flatten = nn.Flatten()\n",
    "        self.fc1 = nn.Linear(8 * ((X.shape[2] - 4) // 2), 64)\n",
    "        self.fc2 = nn.Linear(64, 1)\n",
    "        self.sigmoid = nn.Sigmoid()\n",
    "\n",
    "    def forward(self, x):\n",
    "        x = self.pool(torch.relu(self.conv1(x)))\n",
    "        x = self.flatten(x)\n",
    "        x = torch.relu(self.fc1(x))\n",
    "        x = self.sigmoid(self.fc2(x))\n",
    "        return x\n",
    "\n",
    "model = TransitCNN()\n",
    "criterion = nn.BCELoss()\n",
    "optimizer = optim.Adam(model.parameters(), lr=0.001)\n",
    "\n",
    "# Entrenamiento simple\n",
    "for epoch in range(10):\n",
    "    optimizer.zero_grad()\n",
    "    outputs = model(X_tensor)\n",
    "    loss = criterion(outputs, y_tensor)\n",
    "    loss.backward()\n",
    "    optimizer.step()\n",
    "    print(f\"Epoch {epoch+1}, Loss: {loss.item():.4f}\")\n",
    "\n",
    "# Guardamos el modelo\n",
    "torch.save(model.state_dict(), \"../models/exoplanet_cnn.pt\")\n"
   ]
  }
 ],
 "metadata": {
  "kernelspec": {
   "display_name": "Python 3 (ipykernel)",
   "language": "python",
   "name": "python3"
  },
  "language_info": {
   "name": ""
  }
 },
 "nbformat": 4,
 "nbformat_minor": 5
}
